{
  "nbformat": 4,
  "nbformat_minor": 0,
  "metadata": {
    "colab": {
      "name": "SegmentTree.ipynb",
      "provenance": [],
      "authorship_tag": "ABX9TyOPu9CWW+umHDMK2z3xKpMo"
    },
    "kernelspec": {
      "name": "python3",
      "display_name": "Python 3"
    },
    "language_info": {
      "name": "python"
    }
  },
  "cells": [
    {
      "cell_type": "markdown",
      "metadata": {
        "id": "he64RFIMIC5m"
      },
      "source": [
        "The segment tree is a data structure that enables efficient range queries. Range query is a kind of problem that can be formulated as $q(S, l, r)$, where $q$ is a query type such as $sum$ or $min$, $S$ is the data sequence and $(l, r)$ are the start(inclusive) and end(exclusive) of our query range.\n",
        "\n",
        "As an example, let $q=sum,S = [1, 2, 3, 4, 5]$, then we have\n",
        "\n",
        "(l, r) | q(S, l, r)\n",
        "---|---\n",
        "(0, 1) | 1\n",
        "(2, 4) | 7\n",
        "(0, 5) | 15\n",
        "\n",
        "To build a segment tree, we need $O(n)$ extra space and $O(n)$ time for preprocessing. However, once built, it can return subsequent queries in $O(\\log{n})$ time."
      ]
    },
    {
      "cell_type": "code",
      "metadata": {
        "colab": {
          "base_uri": "https://localhost:8080/"
        },
        "id": "d5Orn7lQH-2J",
        "outputId": "ace8277f-7fec-496d-bfeb-7a134bc30467"
      },
      "source": [
        "# The segment tree allows for efficient range queries. It requires O(n)\n",
        "# extra space and O(n) preprocessing time and offers O(log n) query time.\n",
        "\n",
        "# Helper function to get children of a node\n",
        "def _left(i): return 2 * i + 1\n",
        "def _right(i): return 2 * i + 2\n",
        "\n",
        "class SegmentTree():\n",
        "    def __init__(self, data, query):\n",
        "        # Needs 4n space\n",
        "        self.n = len(data)\n",
        "        self.q = query\n",
        "        self.tree = [None] * (4 * self.n)\n",
        "        # Recursively build the tree\n",
        "        self._build(data, query, 0, self.n, 0)\n",
        "\n",
        "    # Build the subtree at a node with data[l:r]\n",
        "    def _build(self, data, query, l, r, node):\n",
        "        if r <= l:\n",
        "            return\n",
        "        if r == l + 1:\n",
        "            self.tree[node] = data[l]\n",
        "            return\n",
        "        m = (l + r) // 2\n",
        "        _l, _r = _left(node), _right(node)\n",
        "        self._build(data, query, l, m, _l) \n",
        "        self._build(data, query, m, r, _r) \n",
        "        self.tree[node] = query(self.tree[_l], self.tree[_r])\n",
        "\n",
        "    # Query at a given node\n",
        "    def _query(self, start, end, query, l, r, node):\n",
        "        if start >= end or start >= r or end <= l:\n",
        "            return None\n",
        "        if start <= l and end >= r:\n",
        "            return self.tree[node]\n",
        "        m = (l + r) // 2\n",
        "        ql, qr = self._query(start, end, query, l, m, _left(node)),\\\n",
        "                 self._query(start, end, query, m, r, _right(node))\n",
        "        if ql != None:\n",
        "            if qr != None:\n",
        "                return query(ql, qr)\n",
        "            return ql\n",
        "        return qr\n",
        "\n",
        "    # Query the whole tree by querying its root\n",
        "    def query(self, start, end):\n",
        "        return self._query(start, end, self.q, 0, self.n, 0)\n",
        "\n",
        "# Test\n",
        "import numpy as np\n",
        "s = np.random.randint(100, size=100)\n",
        "st = SegmentTree(s, lambda x, y: x if x <= y else y)\n",
        "print(\"Range minimum query:\")\n",
        "for i in range(10):\n",
        "    l, r = np.random.randint(100, size=2)\n",
        "    if l > r:\n",
        "        l, r = r, l\n",
        "    print('query(%d, %d) = %d, np.min(%d, %d) = %d' % (l, r, st.query(l, r),\n",
        "            l, r, np.min(s[l:r])))\n",
        "    \n",
        "st = SegmentTree(s, lambda x, y: x + y)\n",
        "print(\"\\nRange sum query:\")\n",
        "for i in range(10):\n",
        "    l, r = np.random.randint(100, size=2)\n",
        "    if l > r:\n",
        "        l, r = r, l\n",
        "    print('query(%d, %d) = %d, np.sum(%d, %d) = %d' % (l, r, st.query(l, r),\n",
        "            l, r, np.sum(s[l:r])))"
      ],
      "execution_count": 5,
      "outputs": [
        {
          "output_type": "stream",
          "text": [
            "Range minimum query:\n",
            "query(12, 27) = 5, np.min(12, 27) = 5\n",
            "query(30, 75) = 8, np.min(30, 75) = 8\n",
            "query(19, 74) = 8, np.min(19, 74) = 8\n",
            "query(2, 29) = 4, np.min(2, 29) = 4\n",
            "query(56, 79) = 8, np.min(56, 79) = 8\n",
            "query(44, 94) = 0, np.min(44, 94) = 0\n",
            "query(19, 29) = 23, np.min(19, 29) = 23\n",
            "query(56, 81) = 0, np.min(56, 81) = 0\n",
            "query(35, 58) = 8, np.min(35, 58) = 8\n",
            "query(25, 68) = 8, np.min(25, 68) = 8\n",
            "\n",
            "Range sum query:\n",
            "query(50, 98) = 2705, np.sum(50, 98) = 2705\n",
            "query(77, 93) = 748, np.sum(77, 93) = 748\n",
            "query(71, 89) = 951, np.sum(71, 89) = 951\n",
            "query(48, 53) = 279, np.sum(48, 53) = 279\n",
            "query(48, 79) = 1852, np.sum(48, 79) = 1852\n",
            "query(17, 89) = 3797, np.sum(17, 89) = 3797\n",
            "query(38, 73) = 2017, np.sum(38, 73) = 2017\n",
            "query(0, 75) = 3885, np.sum(0, 75) = 3885\n",
            "query(5, 9) = 252, np.sum(5, 9) = 252\n",
            "query(59, 78) = 1167, np.sum(59, 78) = 1167\n"
          ],
          "name": "stdout"
        }
      ]
    }
  ]
}