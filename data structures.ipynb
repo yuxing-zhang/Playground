{
  "nbformat": 4,
  "nbformat_minor": 0,
  "metadata": {
    "colab": {
      "name": "ds.ipynb",
      "provenance": [],
      "collapsed_sections": [],
      "authorship_tag": "ABX9TyMd5ERfv72/rSphAqv1OOj4"
    },
    "kernelspec": {
      "name": "python3",
      "display_name": "Python 3"
    },
    "language_info": {
      "name": "python"
    }
  },
  "cells": [
    {
      "cell_type": "markdown",
      "metadata": {
        "id": "UIq19FlFYzEb"
      },
      "source": [
        "In this demonstration, we will progressively implement several data structures, culminating in an undirected graph equipped with common graph\n",
        "algorithms.\n",
        "\n",
        "The flow of implementations is as follows:\n",
        "\n",
        "`LinkedList` -> `Stack` -> `Queue`\n",
        "\n",
        "`Queue` + `Heap` + `Union-Find` -> `Graph`\n",
        "\n",
        "Although Python has built-ins and libraries such as `list`,\n",
        "`collections` and `heapq` that provide some of these functionalities,\n",
        "we will implement them from scratch.\n",
        "\n",
        "---\n",
        "Now let's start with `LinkedList`."
      ]
    },
    {
      "cell_type": "code",
      "metadata": {
        "colab": {
          "base_uri": "https://localhost:8080/"
        },
        "id": "l4nQIgfAIyNt",
        "outputId": "198a51bc-a1bd-4a4b-c865-2b6c404b74f4"
      },
      "source": [
        "class Node():\n",
        "    def __init__(self, data):\n",
        "        self.data = data\n",
        "        self.next = None\n",
        "\n",
        "# LinkedList\n",
        "class List():\n",
        "    def __init__(self):\n",
        "        self.head = None\n",
        "        self.size = 0 \n",
        "\n",
        "    # String representation\n",
        "    def __str__(self):\n",
        "        s = ''\n",
        "        p = self.head\n",
        "        while p:\n",
        "            s += '%s -> ' % str(p.data)\n",
        "            p = p.next\n",
        "        return s[:-4]\n",
        "\n",
        "    def is_empty(self):\n",
        "        return not self.size\n",
        "\n",
        "    def get_size(self):\n",
        "        return self.size\n",
        "\n",
        "    def insert(self, x): \n",
        "        if self.is_empty():\n",
        "            self.head = Node(x)\n",
        "        else:\n",
        "            p = Node(x)\n",
        "            self.head, p.next = p, self.head\n",
        "        self.size += 1\n",
        "\n",
        "    def delete(self):\n",
        "        if self.is_empty():\n",
        "            return\n",
        "        p = self.head\n",
        "        self.head = p.next\n",
        "        self.size -= 1\n",
        "        return p.data\n",
        "\n",
        "l = List()\n",
        "for i in range(10):\n",
        "    l.insert(i)\n",
        "print(l)\n"
      ],
      "execution_count": null,
      "outputs": [
        {
          "output_type": "stream",
          "text": [
            "9 -> 8 -> 7 -> 6 -> 5 -> 4 -> 3 -> 2 -> 1 -> 0\n"
          ],
          "name": "stdout"
        }
      ]
    },
    {
      "cell_type": "markdown",
      "metadata": {
        "id": "XN9SXLdwsYa6"
      },
      "source": [
        "Now we implement `Stack` based on `LinkedList`."
      ]
    },
    {
      "cell_type": "code",
      "metadata": {
        "id": "pPRNBvauWmpv",
        "colab": {
          "base_uri": "https://localhost:8080/"
        },
        "outputId": "c79ec5f0-2a8b-4c6f-c49c-feaefa97fd50"
      },
      "source": [
        "class Stack(List):\n",
        "    def __init__(self):\n",
        "        super(Stack, self).__init__()\n",
        "\n",
        "    def push(self, x): \n",
        "        self.insert(x)\n",
        "\n",
        "    def pop(self):\n",
        "        return self.delete()\n",
        "\n",
        "    # Check the head element\n",
        "    def peek(self):\n",
        "        if self.is_empty():\n",
        "            return\n",
        "        return self.head.data\n",
        "\n",
        "s = Stack()\n",
        "for i in range(10):\n",
        "    s.push(i)\n",
        "for _ in range(3):\n",
        "    print(s.pop())\n",
        "print(s)"
      ],
      "execution_count": null,
      "outputs": [
        {
          "output_type": "stream",
          "text": [
            "9\n",
            "8\n",
            "7\n",
            "6 -> 5 -> 4 -> 3 -> 2 -> 1 -> 0\n"
          ],
          "name": "stdout"
        }
      ]
    },
    {
      "cell_type": "markdown",
      "metadata": {
        "id": "_1YHH-R8ZAQ7"
      },
      "source": [
        "`Queue` will be implemented as two `Stacks`."
      ]
    },
    {
      "cell_type": "code",
      "metadata": {
        "id": "EazObMF-WxX2",
        "colab": {
          "base_uri": "https://localhost:8080/"
        },
        "outputId": "e7ba0087-fe60-4124-c064-a2102492fb0d"
      },
      "source": [
        "class Queue():\n",
        "    def __init__(self):\n",
        "        self.s, self.t = Stack(), Stack()\n",
        "\n",
        "    def __str__(self):\n",
        "        t = str(self.t)\n",
        "        # Reverse string representation in stack s\n",
        "        s = ''\n",
        "        p = self.s.head\n",
        "        while p:\n",
        "            s = '%s -> %s' % (p.data, s)\n",
        "            p = p.next\n",
        "        s = s[:-4]\n",
        "        # When s and t are both non-empty, add a link between them\n",
        "        if s and t:\n",
        "            return t + ' -> ' + s\n",
        "        return t + s\n",
        "\n",
        "    def is_empty(self):\n",
        "        return self.s.is_empty() and self.t.is_empty()\n",
        "\n",
        "    def get_size(self):\n",
        "        return self.s.get_size() + self.t.get_size()\n",
        "\n",
        "    # Enqueue by pushing to stack s\n",
        "    def enqueue(self, x):\n",
        "        self.s.push(x)\n",
        "\n",
        "    # Dequeue by poping from stack t\n",
        "    def dequeue(self):\n",
        "        if self.t.is_empty():\n",
        "            if self.s.is_empty():\n",
        "                return\n",
        "            # Move s to t when t is empty\n",
        "            while not self.s.is_empty():\n",
        "                self.t.push(self.s.pop())\n",
        "        return self.t.pop()\n",
        "\n",
        "    # Check the front element of the queue\n",
        "    def peek(self):\n",
        "        if self.t.is_empty():\n",
        "            if self.s.is_empty():\n",
        "                return\n",
        "            # Move s to t when t is empty\n",
        "            while not self.s.is_empty():\n",
        "                self.t.push(self.s.pop())\n",
        "        return self.t.peek()\n",
        "\n",
        "q = Queue()\n",
        "for i in range(10):\n",
        "    q.enqueue(i)\n",
        "for _ in range(3):\n",
        "    print(q.dequeue())\n",
        "q.enqueue(10)\n",
        "q.enqueue(11)\n",
        "print(q)"
      ],
      "execution_count": null,
      "outputs": [
        {
          "output_type": "stream",
          "text": [
            "0\n",
            "1\n",
            "2\n",
            "3 -> 4 -> 5 -> 6 -> 7 -> 8 -> 9 -> 10 -> 11\n"
          ],
          "name": "stdout"
        }
      ]
    },
    {
      "cell_type": "markdown",
      "metadata": {
        "id": "Va9pBaBgxdlA"
      },
      "source": [
        "Next, we implement `Min-Heap` as a binary heap whose elements are $(key, value)$ pairs. In order to facilitate implementation of Dijkstra's algorithm\n",
        "later, extra methods are needed such as to decrease the $key$ of a given $value$."
      ]
    },
    {
      "cell_type": "code",
      "metadata": {
        "id": "j9_GxNeaW1Ab",
        "colab": {
          "base_uri": "https://localhost:8080/"
        },
        "outputId": "0e04fa3c-442f-4bb3-b757-73d2f421eb3e"
      },
      "source": [
        "# Helper functions to get parent and child index in binary heap\n",
        "def _parent(x):\n",
        "    if x == 0:\n",
        "        return x\n",
        "    return (x - 1) // 2\n",
        " \n",
        "def _left(x):\n",
        "    return 2 * x + 1\n",
        " \n",
        "def _right(x):\n",
        "    return 2 * x + 2\n",
        " \n",
        "# Min-heap implemented as a binary heap\n",
        "# Elements are (key, value) pairs to facilitate implementation of\n",
        "# Dijkstra's algorithm later\n",
        "class Heap():\n",
        "    def __init__(self):\n",
        "        self.data = []\n",
        "        # Index maps value to its index\n",
        "        self.index = {}\n",
        " \n",
        "    def is_empty(self):\n",
        "        return not self.data\n",
        " \n",
        "    def get_size(self):\n",
        "        return len(self.data)\n",
        " \n",
        "    # Helper function to swap elements\n",
        "    def _swap(self, i, j):\n",
        "        self.data[i], self.data[j] = self.data[j], self.data[i]\n",
        "        self.index[self.data[i][1]] = i\n",
        "        self.index[self.data[j][1]] = j\n",
        " \n",
        "    def pop(self):\n",
        "        if self.is_empty():\n",
        "            return\n",
        "        x = self.data[0]\n",
        "        del self.index[x[1]]\n",
        "        temp = self.data.pop()\n",
        "        if not self.data:\n",
        "            return x\n",
        "        self.data[0] = temp\n",
        "        self.index[self.data[0][1]] = 0\n",
        "        # Maintain heap property\n",
        "        current, left = 0, _left(0)\n",
        "        while left < len(self.data):\n",
        "            # Find minimum between left and right children\n",
        "            mini = left\n",
        "            if left + 1 < len(self.data) and self.data[left + 1][0] <\\\n",
        "                    self.data[left][0]:\n",
        "                mini += 1\n",
        "            # End loop if heap property is not violated\n",
        "            if self.data[current][0] <= self.data[mini][0]:\n",
        "                break\n",
        "            self._swap(current, mini)\n",
        "            current, left = mini, _left(mini)\n",
        "        return x\n",
        " \n",
        "    def push(self, x):\n",
        "        self.data.append(x)\n",
        "        self.index[x[1]] = len(self.data) - 1\n",
        "        # Maintain heap property\n",
        "        current = len(self.data) - 1\n",
        "        while current:\n",
        "            parent = _parent(current)\n",
        "            # End loop if heap property is not violated\n",
        "            if self.data[parent][0] <= self.data[current][0]:\n",
        "                break\n",
        "            self._swap(parent, current)\n",
        "            current = parent\n",
        " \n",
        "    # Decrease the key of an value and balance the heap\n",
        "    # The new key must be smaller than the original key\n",
        "    def decrease_key(self, value, key):\n",
        "        current = self.index[value]\n",
        "        self.data[current][0] = key\n",
        "        while current:\n",
        "            parent = _parent(current)\n",
        "            if self.data[parent][0] <= self.data[current][0]:\n",
        "                break\n",
        "            self._swap(parent, current)\n",
        "            current = parent\n",
        " \n",
        "import numpy as np\n",
        "hp = Heap()\n",
        "# (key, value) pairs will be [x, i] where x is randomly generated\n",
        "for i, x in enumerate(np.random.randint(100, size=10)):\n",
        "    hp.push([x, i])\n",
        "for _ in range(10):\n",
        "    print(hp.pop())"
      ],
      "execution_count": null,
      "outputs": [
        {
          "output_type": "stream",
          "text": [
            "[8, 0]\n",
            "[12, 7]\n",
            "[14, 1]\n",
            "[30, 5]\n",
            "[39, 3]\n",
            "[43, 6]\n",
            "[49, 8]\n",
            "[71, 2]\n",
            "[84, 9]\n",
            "[93, 4]\n"
          ],
          "name": "stdout"
        }
      ]
    },
    {
      "cell_type": "markdown",
      "metadata": {
        "id": "ohh-Hd6t2xyI"
      },
      "source": [
        "The last data strucure we need for implementing `Graph` is the `Union-Find` data structure. We will also apply path compression and union by rank."
      ]
    },
    {
      "cell_type": "code",
      "metadata": {
        "id": "UZ9ucl-ZXKzo",
        "colab": {
          "base_uri": "https://localhost:8080/"
        },
        "outputId": "11825531-1dce-4b98-ea0a-271370b0e37b"
      },
      "source": [
        "# defaultdict simplifies creating string representations\n",
        "from collections import defaultdict\n",
        "\n",
        "class Disjoint():\n",
        "    def __init__(self, n):\n",
        "        # Initially every element is a disjoint set\n",
        "        self.pre = list(range(n))\n",
        "        self.rank = [0] * n\n",
        "\n",
        "    # String representation\n",
        "    def __str__(self):\n",
        "        sets = defaultdict(list)\n",
        "        for i in range(len(self.pre)):\n",
        "            sets[self.find(i)].append(i)\n",
        "        return '\\n'.join('set_%d: %s' % (i, sets[i]) for i in sets)\n",
        "        \n",
        "    def find(self, i):\n",
        "        if self.pre[i] == i:\n",
        "            return i\n",
        "        # Path compression\n",
        "        self.pre[i] = self.find(self.pre[i])\n",
        "        return self.pre[i]\n",
        "\n",
        "    # Union by rank\n",
        "    def union(self, i, j):\n",
        "        i, j = self.find(i), self.find(j)\n",
        "        if self.rank[i] < self.rank[j]:\n",
        "            self.pre[i] = j\n",
        "        else:\n",
        "            self.pre[j] = i\n",
        "            # Increase rank only when two sets are of equal rank\n",
        "            if self.rank[i] == self.rank[j]:\n",
        "                self.rank[i] += 1\n",
        "\n",
        "dis = Disjoint(10)\n",
        "dis.union(0, 1)\n",
        "dis.union(2, 3)\n",
        "dis.union(1, 2)\n",
        "dis.union(5, 6)\n",
        "dis.union(8, 9)\n",
        "print(dis)\n"
      ],
      "execution_count": null,
      "outputs": [
        {
          "output_type": "stream",
          "text": [
            "set_0: [0, 1, 2, 3]\n",
            "set_4: [4]\n",
            "set_5: [5, 6]\n",
            "set_7: [7]\n",
            "set_8: [8, 9]\n"
          ],
          "name": "stdout"
        }
      ]
    },
    {
      "cell_type": "markdown",
      "metadata": {
        "id": "lF7MmoNU6BtV"
      },
      "source": [
        "Finally we will use previously implemented data structures to build `Graph` that can perform various operations, including\n",
        "* Graph traversal via DFS/BFS\n",
        "* Find the shortest path from a given vertex to all other vertices\n",
        "* Find the shortest path between all pairs of vertices\n",
        "* Find a minimum spanning tree/forest"
      ]
    },
    {
      "cell_type": "code",
      "metadata": {
        "id": "3gJhXlnjXOu8",
        "colab": {
          "base_uri": "https://localhost:8080/",
          "height": 625
        },
        "outputId": "944404a7-8211-45ab-9e2e-260da025a5b0"
      },
      "source": [
        "# Undirected graph equipped with several common algorithms\n",
        "# Included algorithms:\n",
        "#   Depth first search\n",
        "#   Breadth first search\n",
        "#   Dijkstra's shortest path algorithm\n",
        "#   Floyd-Warshall algorithm for all-pairs shortest path\n",
        "#   Kruskal's MST algorithm\n",
        "class Graph:\n",
        "    # Graph initialization specified by # of its vertices\n",
        "    def __init__(self, n):\n",
        "        self.V = [[] for _ in range(n)]\n",
        "        self.E = {}\n",
        "        self.n = n\n",
        " \n",
        "    # Add edge (u, v) with weight w\n",
        "    def add_edge(self, u, v, w):\n",
        "        self.V[u].append(v)\n",
        "        self.V[v].append(u)\n",
        "        self.E[(u, v)] = self.E[(v, u)] = w\n",
        " \n",
        "    # Recursively apply function f to vertices in a connected component\n",
        "    def _dfs(self, u, f, visited):\n",
        "        visited[u] = True\n",
        "        f(u)\n",
        "        for v in self.V[u]:\n",
        "            if not visited[v]:\n",
        "                self._dfs(v, f, visited)\n",
        " \n",
        "    # Traverse the graph with dfs\n",
        "    def dfs(self, f):\n",
        "        visited = [False] * self.n\n",
        "        for u in range(self.n):\n",
        "            if not visited[u]:\n",
        "                self._dfs(u, f, visited)\n",
        " \n",
        "    # Traverse a connected component with bfs\n",
        "    def _bfs(self, u, f, visited):\n",
        "        q = Queue()\n",
        "        q.enqueue(u)\n",
        "        visited[u] = True\n",
        "        while not q.is_empty():\n",
        "            u = q.dequeue()\n",
        "            f(u)\n",
        "            for v in self.V[u]:\n",
        "                if not visited[v]:\n",
        "                    q.enqueue(v)\n",
        "                    visited[v] = True\n",
        " \n",
        "    # Traverse the graph with bfs\n",
        "    def bfs(self, f):\n",
        "        visited = [False] * self.n\n",
        "        for v in range(self.n):\n",
        "            if not visited[v]:\n",
        "                self._bfs(v, f, visited)\n",
        " \n",
        "    # Find the shortest path between vertex u and all other vertices,\n",
        "    # assuming connectivity of the graph\n",
        "    def dijkstra(self, u):\n",
        "        h = Heap()\n",
        "        visited = [False] * self.n\n",
        "        # Initialize heap with (0, u) and (inf, v) for v != u\n",
        "        for v in range(self.n):\n",
        "            h.push([float('inf'), v])\n",
        "        h.decrease_key(u, 0)\n",
        "        # Initialize all lengths to inf and previous vertex to -1\n",
        "        dist = [float('inf')] * self.n\n",
        "        dist[u] = 0\n",
        "        pre = [-1] * self.n\n",
        "        while not h.is_empty():\n",
        "            k, u = h.pop()\n",
        "            visited[u] = True\n",
        "            for v in self.V[u]:\n",
        "                # Only check neighbors that are in the heap\n",
        "                if not visited[v] and k + self.E[(u, v)] < dist[v]:\n",
        "                    dist[v] = k + self.E[(u, v)]\n",
        "                    h.decrease_key(v, dist[v])\n",
        "                    pre[v] = u\n",
        "        return dist, pre\n",
        " \n",
        "    # Floyd-Warshall algorithm for all pairs shortest path\n",
        "    def fw(self):\n",
        "        # Shape of dist is (n+1) * n * n\n",
        "        dist = [[[float('inf')] * self.n for _ in range(self.n)] for _ in\n",
        "                range(self.n + 1)]\n",
        "        # Initial dist(i, j, 0) = E[(i, j)] if i and j is connected,\n",
        "        #                         inf otherwise\n",
        "        for i in range(self.n):\n",
        "            dist[0][i][i] = 0\n",
        "            for j in self.V[i]:\n",
        "                dist[0][i][j] = self.E[(i, j)]\n",
        "        # dist(i, j, k+1) = min{dist(i, j, k),\n",
        "        #                       dist(i, K+1, k) + dist(K+1, j, k)}\n",
        "        for k in range(1, self.n+1):\n",
        "            for i in range(self.n):\n",
        "                for j in range(self.n):\n",
        "                    dist[k][i][j] = min(dist[k-1][i][j], dist[k-1][i][k-1] +\n",
        "                            dist[k-1][k-1][j])\n",
        "        return dist[self.n]\n",
        " \n",
        "    # Kruskal's algorithm to find a minimum spanning tree\n",
        "    # The MST is represented by a set of edges\n",
        "    def kruskal(self):\n",
        "        # self.E contains two copies of each edge\n",
        "        # Only one copy is needed\n",
        "        edges = sorted([e for e in self.E if e[0] < e[1]],\n",
        "                key=lambda x: self.E[x])\n",
        "        mst = []\n",
        "        sets = Disjoint(self.n)\n",
        "        for e in edges:\n",
        "            # Find the lightest edge connecting two disjoint components\n",
        "            if sets.find(e[0]) != sets.find(e[1]):\n",
        "                sets.union(*e)\n",
        "                mst.append(e)\n",
        "        return mst\n",
        " \n",
        "# Build a toy graph\n",
        "g = Graph(5)\n",
        "g.add_edge(0, 1, 1)\n",
        "g.add_edge(0, 2, 3)\n",
        "g.add_edge(0, 3, 2)\n",
        "g.add_edge(1, 2, 4)\n",
        "g.add_edge(1, 3, 5)\n",
        "g.add_edge(2, 3, 6)\n",
        "g.add_edge(3, 4, 7)\n",
        " \n",
        "# Run dfs to print all vertices\n",
        "from functools import partial\n",
        "print('Traversal of the graph:', end=' ')\n",
        "g.dfs(partial(print, end=' -> '))\n",
        "print('\\n')\n",
        " \n",
        "# Run dijkstra to get shortest paths from vertex 0 to other vertices\n",
        "dist, pre = g.dijkstra(0)\n",
        "print('\\n'.join('dist(0, %d) = %d' % (i, u) for i, u in enumerate(dist)))\n",
        "print()\n",
        " \n",
        "# Run floyd-warshall to find all pairs shortest path\n",
        "dist = g.fw()\n",
        "print(('dist' + '\\t%d'*5) % tuple(range(5)))\n",
        "for i in range(5):\n",
        "    print(('%d' + '\\t%d'*5) % (i, *dist[i]))\n",
        "print()\n",
        " \n",
        "# Run kruskal to find a mst\n",
        "print('Edge set of an MST:', g.kruskal())\n",
        " \n",
        "# Draw the graph\n",
        "import networkx as nx\n",
        " \n",
        "print('\\nIllustration of the graph:')\n",
        "G = nx.Graph({i: g.V[i] for i in range(5)})\n",
        "G.add_weighted_edges_from((*e, g.E[e]) for e in g.E)\n",
        "pos = nx.spring_layout(G, seed=50)\n",
        "nx.draw(G, pos=pos, with_labels=True, node_color='y')\n",
        "_ = nx.draw_networkx_edge_labels(G, pos=pos,\n",
        "        edge_labels=nx.get_edge_attributes(G, 'weight'))"
      ],
      "execution_count": null,
      "outputs": [
        {
          "output_type": "stream",
          "text": [
            "Traversal of the graph: 0 -> 1 -> 2 -> 3 -> 4 -> \n",
            "\n",
            "dist(0, 0) = 0\n",
            "dist(0, 1) = 1\n",
            "dist(0, 2) = 3\n",
            "dist(0, 3) = 2\n",
            "dist(0, 4) = 9\n",
            "\n",
            "dist\t0\t1\t2\t3\t4\n",
            "0\t0\t1\t3\t2\t9\n",
            "1\t1\t0\t4\t3\t10\n",
            "2\t3\t4\t0\t5\t12\n",
            "3\t2\t3\t5\t0\t7\n",
            "4\t9\t10\t12\t7\t0\n",
            "\n",
            "Edge set of an MST: [(0, 1), (0, 3), (0, 2), (3, 4)]\n",
            "\n",
            "Illustration of the graph:\n"
          ],
          "name": "stdout"
        },
        {
          "output_type": "display_data",
          "data": {
            "image/png": "[encoded data removed]",
            "text/plain": [
              "<Figure size 432x288 with 1 Axes>"
            ]
          },
          "metadata": {
            "tags": []
          }
        }
      ]
    }
  ]
}
